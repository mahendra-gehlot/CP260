{
  "nbformat": 4,
  "nbformat_minor": 0,
  "metadata": {
    "colab": {
      "name": "Vision_Lab3.ipynb",
      "provenance": [],
      "collapsed_sections": [],
      "mount_file_id": "1nduL2g_O5hx3N_hwbVQWZo_Usmzo2u5Q",
      "authorship_tag": "ABX9TyOHCLwoyagh03fUkbYbztPZ",
      "include_colab_link": true
    },
    "kernelspec": {
      "name": "python3",
      "display_name": "Python 3"
    },
    "language_info": {
      "name": "python"
    }
  },
  "cells": [
    {
      "cell_type": "markdown",
      "metadata": {
        "id": "view-in-github",
        "colab_type": "text"
      },
      "source": [
        "<a href=\"https://colab.research.google.com/github/mahendra-gehlot/CP260/blob/main/Vision_Lab3.ipynb\" target=\"_parent\"><img src=\"https://colab.research.google.com/assets/colab-badge.svg\" alt=\"Open In Colab\"/></a>"
      ]
    },
    {
      "cell_type": "code",
      "source": [
        "import numpy as np\n",
        "import cv2 as cv\n",
        "import glob \n",
        "import matplotlib.pyplot as plt\n",
        "\n",
        "SKIP_STEP = 20"
      ],
      "metadata": {
        "id": "duB_eIR16vjO"
      },
      "execution_count": null,
      "outputs": []
    },
    {
      "cell_type": "code",
      "source": [
        "from google.colab import drive\n",
        "drive.mount('/content/drive')"
      ],
      "metadata": {
        "id": "DC7TXK0ISNda"
      },
      "execution_count": null,
      "outputs": []
    },
    {
      "cell_type": "code",
      "source": [
        "O_PATH = \"/content/drive/MyDrive/Vision/Given_Outdoor_data/frame_[0-403]*.png\"\n",
        "I_PATH = \"/content/drive/MyDrive/Vision/Given_Indoor_data/frame[0-290]*.png\""
      ],
      "metadata": {
        "id": "c1goS01C6xnn"
      },
      "execution_count": null,
      "outputs": []
    },
    {
      "cell_type": "code",
      "source": [
        "images = []\n",
        "for img in glob.glob(O_PATH):\n",
        "    images.append(img)\n",
        "    \n",
        "print(len(images))"
      ],
      "metadata": {
        "id": "jBq0GtPi62_t",
        "colab": {
          "base_uri": "https://localhost:8080/"
        },
        "outputId": "e4427548-eddf-455e-a423-439b4d44ce17"
      },
      "execution_count": null,
      "outputs": [
        {
          "output_type": "stream",
          "name": "stdout",
          "text": [
            "404\n"
          ]
        }
      ]
    },
    {
      "cell_type": "code",
      "source": [
        "# Sampling image after every 20th frame\n",
        "imgs = []\n",
        "for i in range(0,len(images),SKIP_STEP):\n",
        "    I = cv.imread(images[i],0)\n",
        "    imgs.append(I)"
      ],
      "metadata": {
        "id": "3N1_z-Lh6-RC"
      },
      "execution_count": null,
      "outputs": []
    },
    {
      "cell_type": "code",
      "source": [
        "def extract_feature_SIFT(image):\n",
        "\n",
        "    sift = cv.xfeatures2d.SIFT_create()\n",
        "    kp, des = sift.detectAndCompute(image,None)\n",
        "\n",
        "    \n",
        "    return kp, des"
      ],
      "metadata": {
        "id": "7-jXq3ZQ7BKO"
      },
      "execution_count": null,
      "outputs": []
    },
    {
      "cell_type": "code",
      "source": [
        "def extract_feature_SURF(image):\n",
        "\n",
        "    surf = cv.xfeatures2d.SURF_create(400)\n",
        "    kp, des = surf.detectAndCompute(image,None)\n",
        "\n",
        "    return kp, des"
      ],
      "metadata": {
        "id": "x0KMfUNI7Dsj"
      },
      "execution_count": null,
      "outputs": []
    },
    {
      "cell_type": "code",
      "source": [
        "def extract_feature_ORB(image):\n",
        "\n",
        "    orb = cv.ORB_create()\n",
        "    kp = orb.detect(image,None)\n",
        "    kp, des = orb.compute(image, kp)\n",
        "\n",
        "    return kp, des"
      ],
      "metadata": {
        "id": "ogqevyUM7GKN"
      },
      "execution_count": null,
      "outputs": []
    },
    {
      "cell_type": "code",
      "source": [
        "def extract_features_dataset(images, extract_features_function):\n",
        "\n",
        "    kp_list = []\n",
        "    des_list = []\n",
        "    \n",
        "    for img in images:\n",
        "        kp , des = extract_features_function(img)\n",
        "        kp_list.append(kp)\n",
        "        des_list.append(des)\n",
        "    \n",
        "    return kp_list, des_list"
      ],
      "metadata": {
        "id": "najih5tS7I1s"
      },
      "execution_count": null,
      "outputs": []
    },
    {
      "cell_type": "code",
      "source": [
        "def match_features(des1, des2):\n",
        "\n",
        "    # # FLANN parameters\n",
        "    # FLANN_INDEX_KDTREE = 1\n",
        "    # index_params = dict(algorithm = FLANN_INDEX_KDTREE, trees = 5)\n",
        "    # search_params = dict(checks=50)   # or pass empty dictionary\n",
        "    # flann = cv.FlannBasedMatcher(index_params,search_params)\n",
        "    # matches = flann.knnMatch(des1,des2,k=2)\n",
        "\n",
        "    # # FLANN ORB\n",
        "    # FLANN_INDEX_LSH = 6\n",
        "    # index_params= dict(algorithm = FLANN_INDEX_LSH,table_number = 6,key_size = 12,multi_probe_level = 1)\n",
        "    # search_params = dict(checks=50)\n",
        "    # flann = cv.FlannBasedMatcher(index_params,search_params)\n",
        "    # matches = flann.knnMatch(des1,des2,k=2)\n",
        "\n",
        "\n",
        "    # BF parameters\n",
        "    bf = cv.BFMatcher()\n",
        "    matches = bf.knnMatch(des1,des2, k=2)\n",
        "\n",
        "    return matches"
      ],
      "metadata": {
        "id": "ngYPCgw47LZG"
      },
      "execution_count": null,
      "outputs": []
    },
    {
      "cell_type": "code",
      "source": [
        "def filter_matches_distance(match, dist_threshold):\n",
        "    filtered_match = []\n",
        "    for i,(m,n) in enumerate(match):\n",
        "        if m.distance < dist_threshold*n.distance:\n",
        "            filtered_match.append(m)\n",
        "\n",
        "    return filtered_match"
      ],
      "metadata": {
        "id": "KHiSSpQ57OOL"
      },
      "execution_count": null,
      "outputs": []
    },
    {
      "cell_type": "code",
      "source": [
        "# Change function here to extract feature from SURF/ORB/SIFT\n",
        "\n",
        "kp_list, des_list = extract_features_dataset(imgs,extract_feature_ORB)\n",
        "dist_threshold = 0.7\n",
        "matches = []\n",
        "for i in range(0,len(des_list)-1):\n",
        "    match = match_features(des_list[i],des_list[i+1])\n",
        "    matches.append(filter_matches_distance(match, dist_threshold))"
      ],
      "metadata": {
        "id": "Fu5Rdcb87QdQ"
      },
      "execution_count": null,
      "outputs": []
    },
    {
      "cell_type": "code",
      "source": [
        "def show_match(img1,kp1,img2,kp2,matches):\n",
        "    # img = cv.drawMatchesKnn(img1,kp1,img2,kp2,matches,None,flags=cv.DrawMatchesFlags_NOT_DRAW_SINGLE_POINTS)\n",
        "    img = cv.drawMatches(img1,kp1,img2,kp2,matches,None,flags=cv.DrawMatchesFlags_NOT_DRAW_SINGLE_POINTS)\n",
        "    return img"
      ],
      "metadata": {
        "id": "pSKnxuiv7SY0"
      },
      "execution_count": null,
      "outputs": []
    },
    {
      "cell_type": "code",
      "source": [
        "# Fetching matches\n",
        "j = 0\n",
        "matched_img = []\n",
        "for i in range(0,len(imgs)-1):\n",
        "    matched_img.append(show_match(imgs[i],kp_list[i],imgs[i+1],kp_list[i+1],matches[j]))\n",
        "    j += 1\n"
      ],
      "metadata": {
        "id": "O12tcRde7Wy1"
      },
      "execution_count": null,
      "outputs": []
    },
    {
      "cell_type": "code",
      "source": [
        "a1 = 1\n",
        "for image in matched_img:\n",
        "    image = cv.resize(image, (1920,1080))\n",
        "    cv.imwrite(\"/content/drive/MyDrive/Vision/BF/ORB/Outdoor/match{}.jpg\".format(a1), image)\n",
        "    cv.waitKey(0)\n",
        "    a1 += 1"
      ],
      "metadata": {
        "id": "xFM4zY_V7bBY"
      },
      "execution_count": null,
      "outputs": []
    },
    {
      "cell_type": "code",
      "source": [
        ""
      ],
      "metadata": {
        "id": "_ndXEqFqEFFg"
      },
      "execution_count": null,
      "outputs": []
    }
  ]
}